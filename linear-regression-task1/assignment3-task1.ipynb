{
 "cells": [
  {
   "cell_type": "code",
   "id": "e1345b1b-071b-4853-b6d0-c732fd2284a8",
   "metadata": {
    "tags": []
   },
   "source": [
    "import numpy as np\n",
    "import pandas as pd\n",
    "import statsmodels.api as sm\n",
    "from sklearn.preprocessing import StandardScaler"
   ],
   "outputs": [],
   "execution_count": null
  },
  {
   "cell_type": "code",
   "id": "22f46665-c9f0-40d0-97fb-55c11a0060e2",
   "metadata": {
    "tags": []
   },
   "source": [
    "df = pd.read_csv('insurance_data.csv')\n",
    "df.info()"
   ],
   "outputs": [],
   "execution_count": null
  },
  {
   "cell_type": "code",
   "id": "5e86224e",
   "metadata": {},
   "source": [
    "df.dropna(inplace=True) # drop rows with missing values\n",
    "df.sample(frac=1).reset_index(drop=True) # shuffle the data\n",
    "df = pd.get_dummies(df, dtype=\"float\", drop_first=True, columns=['gender', 'region', 'smoker']) # convert categorical variables to dummy variables\n",
    "df.head()\n"
   ],
   "outputs": [],
   "execution_count": null
  },
  {
   "cell_type": "code",
   "id": "92edc4d5",
   "metadata": {},
   "source": [
    "# create a linear regression model\n",
    "# using the 'smoker_yes', 'age', and 'BMI' columns as independent variables\n",
    "# and the 'expenses' column as the dependent variable\n",
    "x = df[['smoker_yes', 'age', 'BMI']]\n",
    "y = df['expenses']\n",
    "x = sm.add_constant(x)\n",
    "model = sm.OLS(y, x)\n",
    "result = model.fit()\n",
    "result.summary()"
   ],
   "outputs": [],
   "execution_count": null
  },
  {
   "cell_type": "code",
   "id": "479584e7-c40f-4b18-8da1-fcdb0cd72f65",
   "metadata": {
    "tags": []
   },
   "source": [
    "# comments:\n",
    "\n",
    "# (1) there is a small amount of rows with missing values - they can be dropped\n",
    "\n",
    "# (2) you may want to make use of https://pandas.pydata.org/docs/reference/api/pandas.get_dummies.html\n",
    "# read through the function documentation carefully, and use dtype=float for the \"dtype\" parameter\n",
    "\n",
    "# (3) perform all your computations (solve the task) before the questions part, in a complete, clear and effective manner\n",
    "\n",
    "# (4) in the questions part only print answers based on your solution"
   ],
   "outputs": [],
   "execution_count": null
  },
  {
   "cell_type": "markdown",
   "id": "5fdc46eb-6745-496b-9f05-25da4f07fdb4",
   "metadata": {},
   "source": [
    "#### Questions (answer the questions, all computations should precede this part)"
   ]
  },
  {
   "cell_type": "markdown",
   "id": "3bf55d3b-5ab0-4a85-907a-265890678f32",
   "metadata": {},
   "source": [
    "#### Question 1"
   ]
  },
  {
   "cell_type": "code",
   "id": "0e334107-1631-4a06-a27f-74cfe0c64bea",
   "metadata": {
    "tags": []
   },
   "source": [
    "# did you remove any numerical predictor from the data based on multi-collinearity considerations?\n",
    "# if not - why, if yes - how did you decide on the predictor to remove?\n",
    "# print a short (one-sentence) answer using the print() command"
   ],
   "outputs": [],
   "execution_count": null
  },
  {
   "cell_type": "code",
   "id": "a99aea72",
   "metadata": {},
   "source": [
    "p_corr = round(df['weight'].corr(df['BMI']), 2)\n",
    "print(\"We removed the weight predictor because it was highly correlated with the BMI predictor.\")\n",
    "print(\"The decision was based on the fact that the R^2 value was higher when weight was removed compared to removing BMI.\")\n",
    "print(\"This correlation exists because BMI is calculated using weight.\")\n",
    "print(f\"The Pearson correlation between weight and BMI is {p_corr}.\")"
   ],
   "outputs": [],
   "execution_count": null
  },
  {
   "cell_type": "markdown",
   "id": "e8dcf249-0a7a-48e6-81dc-b8ffb578f286",
   "metadata": {},
   "source": [
    "#### Question 2"
   ]
  },
  {
   "cell_type": "code",
   "id": "aa4e2e3a-40af-41e6-a93f-c52c08e6d8c8",
   "metadata": {
    "tags": []
   },
   "source": [
    "# what is the amount of money a person is likely to spend on medical expenses with each additional year of age?\n",
    "# write here the value itself (hardcoded) based on your inspection of the regression summary (after taking care of multi-collinearity)\n",
    "# display your answer as a dataframe (as in assignment 2)"
   ],
   "outputs": [],
   "execution_count": null
  },
  {
   "cell_type": "code",
   "id": "3e0ca612",
   "metadata": {},
   "source": [
    "money_per_year = pd.DataFrame([result.params['age']], index=['money_per_year'], columns=['value'])\n",
    "print(money_per_year)"
   ],
   "outputs": [],
   "execution_count": null
  },
  {
   "cell_type": "markdown",
   "id": "bbc895f4-027e-47f9-b864-03ac5f0c7115",
   "metadata": {},
   "source": [
    "#### Question 3"
   ]
  },
  {
   "cell_type": "code",
   "id": "a2f20dcd-e1d1-4bdb-80ec-95ec821dd540",
   "metadata": {
    "tags": []
   },
   "source": [
    "# consider the predictors: age, gender, BMI, weight, children, smoker\n",
    "# what predictors (out of this list) have significant contribution to predicting medical expenses?\n",
    "\n",
    "# report only signifnicant predictors sorted by their contribution to the prediction from highest to lowest\n",
    "# for each predictor specify if it has a positive or a negative effect on the medical expenses\n",
    "\n",
    "# display your answer as a dataframe with two columns: (1) predictor, (2) effect (positive or negative)\n",
    "# no need to include the constant (b_0) value"
   ],
   "outputs": [],
   "execution_count": null
  },
  {
   "cell_type": "code",
   "id": "e0ad8a04",
   "metadata": {},
   "source": [
    "# Prepare the data\n",
    "X = df[['smoker_yes', 'age', 'BMI', 'weight', 'gender_male']]\n",
    "y = df['expenses']\n",
    "\n",
    "scaler = StandardScaler()\n",
    "X_scaled_values = scaler.fit_transform(X)\n",
    "X_scaled = pd.DataFrame(X_scaled_values, columns=X.columns, index=X.index)\n",
    "X_scaled = sm.add_constant(X_scaled)\n",
    "\n",
    "# Fit model\n",
    "model = sm.OLS(y, X_scaled)\n",
    "results = model.fit()\n",
    "\n",
    "# Get coefficients, p-values, and confidence intervals\n",
    "coefficients = results.params.drop('const')\n",
    "p_values = results.pvalues.drop('const')\n",
    "conf_int = results.conf_int().drop('const')\n",
    "conf_int.columns = ['CI Lower', 'CI Upper']\n",
    "\n",
    "# Identify significant predictors based on CI not containing 0\n",
    "significant = conf_int[(conf_int['CI Lower'] > 0) | (conf_int['CI Upper'] < 0)].index\n",
    "significant_coefficients = coefficients[significant]\n",
    "sorted_coefficients = significant_coefficients.abs().sort_values(ascending=False)\n",
    "sorted_predictors = sorted_coefficients.index\n",
    "\n",
    "# Create results DataFrame\n",
    "df_result = pd.DataFrame({\n",
    "    'predictor value': sorted_coefficients,\n",
    "    'effect': ['positive' if significant_coefficients[p] > 0 else 'negative' for p in sorted_predictors],\n",
    "    'CI Lower': conf_int.loc[sorted_predictors, 'CI Lower'].values,\n",
    "    'CI Upper': conf_int.loc[sorted_predictors, 'CI Upper'].values\n",
    "})\n",
    "\n",
    "print(df_result)"
   ],
   "outputs": [],
   "execution_count": null
  },
  {
   "cell_type": "markdown",
   "id": "3b37b6b9-4612-4b16-ba1f-d528c5edf60a",
   "metadata": {},
   "source": [
    "#### Question 4"
   ]
  },
  {
   "cell_type": "code",
   "id": "41fd402f-688f-45d3-8193-886ec12b9895",
   "metadata": {},
   "source": [
    "# compute R-squared for four regression versions:\n",
    "# (1) including all predictors from the csv file\n",
    "# (2) including predictors after taking care of the multi-collineraity issue\n",
    "# (3) (2) above + including only predictors with signficant contribution to the model\n",
    "# (4) (3) above + after preditor scaling"
   ],
   "outputs": [],
   "execution_count": null
  },
  {
   "cell_type": "markdown",
   "id": "8b806447",
   "metadata": {},
   "source": [
    "(1) including all predictors from the csv file"
   ]
  },
  {
   "cell_type": "code",
   "id": "26c97e2e",
   "metadata": {},
   "source": [
    "\n",
    "x_all = df[['smoker_yes', 'age', 'BMI', 'weight', 'children', 'gender_male', 'region_northwest', 'region_southeast', 'region_southwest']]\n",
    "y_all = df['expenses']\n",
    "x_all = sm.add_constant(x_all)\n",
    "model_all = sm.OLS(y_all, x_all)\n",
    "result_all = model_all.fit()\n",
    "r2all_df = pd.DataFrame({'R_squared': [result_all.rsquared]}, index=['all_predictors'])\n",
    "print(r2all_df)"
   ],
   "outputs": [],
   "execution_count": null
  },
  {
   "cell_type": "markdown",
   "id": "ded131c8",
   "metadata": {},
   "source": [
    "including predictors after taking care of the multi-collineraity issue"
   ]
  },
  {
   "cell_type": "code",
   "id": "f1072ce9",
   "metadata": {},
   "source": [
    "x_no_collin = df[['smoker_yes', 'age', 'BMI', 'children', 'region_northwest', 'region_southeast', 'region_southwest', 'gender_male']]\n",
    "y_no_collin = df['expenses']\n",
    "x_no_collin = sm.add_constant(x_no_collin)\n",
    "model_no_collin = sm.OLS(y_no_collin, x_no_collin)\n",
    "result_no_collin = model_no_collin.fit()\n",
    "r2_no_col = pd.DataFrame({'R_squared': [result_no_collin.rsquared]}, index=['no_collinearity'])\n",
    "print(r2_no_col)"
   ],
   "outputs": [],
   "execution_count": null
  },
  {
   "cell_type": "markdown",
   "id": "97f6d64e",
   "metadata": {},
   "source": [
    "(3) (2) above + including only predictors with signficant contribution to the model\n",
    "its the model that we created at the begging"
   ]
  },
  {
   "cell_type": "code",
   "id": "1d620350",
   "metadata": {},
   "source": [
    "r2_significant = pd.DataFrame({'R_squared': [result_no_collin.rsquared]}, index=['significant_predictors'])\n",
    "print(r2_significant)"
   ],
   "outputs": [],
   "execution_count": null
  },
  {
   "cell_type": "markdown",
   "id": "6f175ece",
   "metadata": {},
   "source": [
    "(4) (3) above + after preditor scaling"
   ]
  },
  {
   "cell_type": "code",
   "id": "84391f06",
   "metadata": {},
   "source": [
    "from sklearn.preprocessing import StandardScaler\n",
    "scaler = StandardScaler()\n",
    "scaler.fit(df)\n",
    "predicators_scaled = scaler.transform(df) # scale the predictors\n",
    "df_scaled = pd.DataFrame(predicators_scaled, columns = df.columns)\n",
    "x_scaled = df_scaled[['smoker_yes', 'age', 'BMI']]\n",
    "y_scaled = df_scaled['expenses']\n",
    "x_scaled = sm.add_constant(x_scaled)\n",
    "model_scaled = sm.OLS(y_scaled, x_scaled)\n",
    "result_scaled = model_scaled.fit()\n",
    "r2_scaled = pd.DataFrame({'R_squared': [result_scaled.rsquared]}, index=['scaled_predictors'])\n",
    "print(r2_scaled)"
   ],
   "outputs": [],
   "execution_count": null
  },
  {
   "cell_type": "markdown",
   "id": "ab11db55-5c53-4daf-be78-bfaac37c61b4",
   "metadata": {},
   "source": [
    "#### Question 5"
   ]
  },
  {
   "cell_type": "code",
   "id": "9e1efc6c-546b-4f9b-8605-15f7a8f58788",
   "metadata": {},
   "source": [
    "# what medical expenses may expect a person with the following data?\n",
    "# age=66, gender=female, BMI=35.4, weight=70.5, children=1, smoker=no, region=southeast\n",
    "\n",
    "# for this question only, include you computation *in the answer below* using model (3) from Question 4\n",
    "\n",
    "# !! you may face difficuly adding a constant (sm.add_constant()) to a DataFrame with a single row\n",
    "# try to search for solution, and in case you need a hint, you may find these links useful - read carefully:\n",
    "# https://github.com/statsmodels/statsmodels/issues/7057\n",
    "# https://www.statsmodels.org/0.9.0/generated/statsmodels.tools.tools.add_constant.html\n",
    "# in this specific case add_constant() has a somewhat unexpected behavior"
   ],
   "outputs": [],
   "execution_count": null
  },
  {
   "cell_type": "code",
   "id": "be83ec41",
   "metadata": {},
   "source": [
    "\n",
    "person_data = pd.DataFrame({\n",
    "    'smoker_yes': [0],\n",
    "    'age': [66],\n",
    "    'BMI': [35.4]\n",
    "})\n",
    "\n",
    "person_data = sm.add_constant(person_data, has_constant='add') # add a constant term with had constant = 'add' because we have a single row\n",
    "\n",
    "predicted_expenses = result.predict(person_data)\n",
    "print(f\"Expected medical expenses: {predicted_expenses[0]:.2f}\")"
   ],
   "outputs": [],
   "execution_count": null
  },
  {
   "cell_type": "code",
   "id": "70547614-8c77-40c7-9982-1211a2ed0959",
   "metadata": {},
   "source": [],
   "outputs": [],
   "execution_count": null
  }
 ],
 "metadata": {
  "kernelspec": {
   "display_name": "Python [conda env:base] *",
   "language": "python",
   "name": "conda-base-py"
  },
  "language_info": {
   "codemirror_mode": {
    "name": "ipython",
    "version": 3
   },
   "file_extension": ".py",
   "mimetype": "text/x-python",
   "name": "python",
   "nbconvert_exporter": "python",
   "pygments_lexer": "ipython3",
   "version": "3.12.7"
  }
 },
 "nbformat": 4,
 "nbformat_minor": 5
}
