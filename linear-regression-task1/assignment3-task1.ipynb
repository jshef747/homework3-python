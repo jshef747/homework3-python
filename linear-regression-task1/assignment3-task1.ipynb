{
 "cells": [
  {
   "cell_type": "code",
   "execution_count": 1,
   "id": "e1345b1b-071b-4853-b6d0-c732fd2284a8",
   "metadata": {
    "tags": []
   },
   "outputs": [],
   "source": [
    "import numpy as np\n",
    "import pandas as pd\n",
    "import statsmodels.api as sm\n",
    "from sklearn.preprocessing import StandardScaler"
   ]
  },
  {
   "cell_type": "code",
   "execution_count": 2,
   "id": "22f46665-c9f0-40d0-97fb-55c11a0060e2",
   "metadata": {
    "tags": []
   },
   "outputs": [
    {
     "name": "stdout",
     "output_type": "stream",
     "text": [
      "<class 'pandas.core.frame.DataFrame'>\n",
      "RangeIndex: 1250 entries, 0 to 1249\n",
      "Data columns (total 8 columns):\n",
      " #   Column    Non-Null Count  Dtype  \n",
      "---  ------    --------------  -----  \n",
      " 0   age       1250 non-null   int64  \n",
      " 1   gender    1250 non-null   object \n",
      " 2   BMI       1250 non-null   float64\n",
      " 3   weight    1248 non-null   float64\n",
      " 4   children  1250 non-null   int64  \n",
      " 5   smoker    1249 non-null   object \n",
      " 6   region    1250 non-null   object \n",
      " 7   expenses  1248 non-null   float64\n",
      "dtypes: float64(3), int64(2), object(3)\n",
      "memory usage: 78.3+ KB\n"
     ]
    }
   ],
   "source": [
    "df = pd.read_csv('insurance_data.csv')\n",
    "df.info()"
   ]
  },
  {
   "cell_type": "code",
   "execution_count": 3,
   "id": "5e86224e",
   "metadata": {},
   "outputs": [
    {
     "data": {
      "text/html": [
       "<div>\n",
       "<style scoped>\n",
       "    .dataframe tbody tr th:only-of-type {\n",
       "        vertical-align: middle;\n",
       "    }\n",
       "\n",
       "    .dataframe tbody tr th {\n",
       "        vertical-align: top;\n",
       "    }\n",
       "\n",
       "    .dataframe thead th {\n",
       "        text-align: right;\n",
       "    }\n",
       "</style>\n",
       "<table border=\"1\" class=\"dataframe\">\n",
       "  <thead>\n",
       "    <tr style=\"text-align: right;\">\n",
       "      <th></th>\n",
       "      <th>age</th>\n",
       "      <th>BMI</th>\n",
       "      <th>weight</th>\n",
       "      <th>children</th>\n",
       "      <th>expenses</th>\n",
       "      <th>gender_male</th>\n",
       "      <th>region_northwest</th>\n",
       "      <th>region_southeast</th>\n",
       "      <th>region_southwest</th>\n",
       "      <th>smoker_yes</th>\n",
       "    </tr>\n",
       "  </thead>\n",
       "  <tbody>\n",
       "    <tr>\n",
       "      <th>0</th>\n",
       "      <td>29</td>\n",
       "      <td>27.9</td>\n",
       "      <td>55.651235</td>\n",
       "      <td>0</td>\n",
       "      <td>16884.92</td>\n",
       "      <td>0.0</td>\n",
       "      <td>0.0</td>\n",
       "      <td>0.0</td>\n",
       "      <td>1.0</td>\n",
       "      <td>1.0</td>\n",
       "    </tr>\n",
       "    <tr>\n",
       "      <th>1</th>\n",
       "      <td>28</td>\n",
       "      <td>33.8</td>\n",
       "      <td>76.008228</td>\n",
       "      <td>3</td>\n",
       "      <td>1725.55</td>\n",
       "      <td>1.0</td>\n",
       "      <td>0.0</td>\n",
       "      <td>1.0</td>\n",
       "      <td>0.0</td>\n",
       "      <td>0.0</td>\n",
       "    </tr>\n",
       "    <tr>\n",
       "      <th>2</th>\n",
       "      <td>38</td>\n",
       "      <td>33.0</td>\n",
       "      <td>58.492328</td>\n",
       "      <td>4</td>\n",
       "      <td>4449.46</td>\n",
       "      <td>1.0</td>\n",
       "      <td>0.0</td>\n",
       "      <td>1.0</td>\n",
       "      <td>0.0</td>\n",
       "      <td>0.0</td>\n",
       "    </tr>\n",
       "    <tr>\n",
       "      <th>3</th>\n",
       "      <td>43</td>\n",
       "      <td>22.7</td>\n",
       "      <td>49.778750</td>\n",
       "      <td>3</td>\n",
       "      <td>21984.47</td>\n",
       "      <td>1.0</td>\n",
       "      <td>1.0</td>\n",
       "      <td>0.0</td>\n",
       "      <td>0.0</td>\n",
       "      <td>0.0</td>\n",
       "    </tr>\n",
       "    <tr>\n",
       "      <th>4</th>\n",
       "      <td>42</td>\n",
       "      <td>28.9</td>\n",
       "      <td>79.693884</td>\n",
       "      <td>0</td>\n",
       "      <td>3866.86</td>\n",
       "      <td>1.0</td>\n",
       "      <td>1.0</td>\n",
       "      <td>0.0</td>\n",
       "      <td>0.0</td>\n",
       "      <td>0.0</td>\n",
       "    </tr>\n",
       "  </tbody>\n",
       "</table>\n",
       "</div>"
      ],
      "text/plain": [
       "   age   BMI     weight  children  expenses  gender_male  region_northwest  \\\n",
       "0   29  27.9  55.651235         0  16884.92          0.0               0.0   \n",
       "1   28  33.8  76.008228         3   1725.55          1.0               0.0   \n",
       "2   38  33.0  58.492328         4   4449.46          1.0               0.0   \n",
       "3   43  22.7  49.778750         3  21984.47          1.0               1.0   \n",
       "4   42  28.9  79.693884         0   3866.86          1.0               1.0   \n",
       "\n",
       "   region_southeast  region_southwest  smoker_yes  \n",
       "0               0.0               1.0         1.0  \n",
       "1               1.0               0.0         0.0  \n",
       "2               1.0               0.0         0.0  \n",
       "3               0.0               0.0         0.0  \n",
       "4               0.0               0.0         0.0  "
      ]
     },
     "execution_count": 3,
     "metadata": {},
     "output_type": "execute_result"
    }
   ],
   "source": [
    "df.dropna(inplace=True) # drop rows with missing values\n",
    "df.sample(frac=1).reset_index(drop=True) # shuffle the data\n",
    "df = pd.get_dummies(df, dtype=\"float\", drop_first=True, columns=['gender', 'region', 'smoker']) # convert categorical variables to dummy variables\n",
    "df.head()\n"
   ]
  },
  {
   "cell_type": "code",
   "execution_count": 4,
   "id": "92edc4d5",
   "metadata": {},
   "outputs": [
    {
     "data": {
      "text/html": [
       "<table class=\"simpletable\">\n",
       "<caption>OLS Regression Results</caption>\n",
       "<tr>\n",
       "  <th>Dep. Variable:</th>        <td>expenses</td>     <th>  R-squared:         </th> <td>   0.748</td> \n",
       "</tr>\n",
       "<tr>\n",
       "  <th>Model:</th>                   <td>OLS</td>       <th>  Adj. R-squared:    </th> <td>   0.747</td> \n",
       "</tr>\n",
       "<tr>\n",
       "  <th>Method:</th>             <td>Least Squares</td>  <th>  F-statistic:       </th> <td>   1227.</td> \n",
       "</tr>\n",
       "<tr>\n",
       "  <th>Date:</th>             <td>Thu, 15 May 2025</td> <th>  Prob (F-statistic):</th>  <td>  0.00</td>  \n",
       "</tr>\n",
       "<tr>\n",
       "  <th>Time:</th>                 <td>16:12:27</td>     <th>  Log-Likelihood:    </th> <td> -12609.</td> \n",
       "</tr>\n",
       "<tr>\n",
       "  <th>No. Observations:</th>      <td>  1245</td>      <th>  AIC:               </th> <td>2.523e+04</td>\n",
       "</tr>\n",
       "<tr>\n",
       "  <th>Df Residuals:</th>          <td>  1241</td>      <th>  BIC:               </th> <td>2.525e+04</td>\n",
       "</tr>\n",
       "<tr>\n",
       "  <th>Df Model:</th>              <td>     3</td>      <th>                     </th>     <td> </td>    \n",
       "</tr>\n",
       "<tr>\n",
       "  <th>Covariance Type:</th>      <td>nonrobust</td>    <th>                     </th>     <td> </td>    \n",
       "</tr>\n",
       "</table>\n",
       "<table class=\"simpletable\">\n",
       "<tr>\n",
       "       <td></td>         <th>coef</th>     <th>std err</th>      <th>t</th>      <th>P>|t|</th>  <th>[0.025</th>    <th>0.975]</th>  \n",
       "</tr>\n",
       "<tr>\n",
       "  <th>const</th>      <td>-1.426e+04</td> <td> 1024.537</td> <td>  -13.919</td> <td> 0.000</td> <td>-1.63e+04</td> <td>-1.23e+04</td>\n",
       "</tr>\n",
       "<tr>\n",
       "  <th>smoker_yes</th> <td>  2.39e+04</td> <td>  429.326</td> <td>   55.670</td> <td> 0.000</td> <td> 2.31e+04</td> <td> 2.47e+04</td>\n",
       "</tr>\n",
       "<tr>\n",
       "  <th>age</th>        <td>  259.5974</td> <td>   12.339</td> <td>   21.039</td> <td> 0.000</td> <td>  235.390</td> <td>  283.804</td>\n",
       "</tr>\n",
       "<tr>\n",
       "  <th>BMI</th>        <td>  322.2587</td> <td>   28.330</td> <td>   11.375</td> <td> 0.000</td> <td>  266.679</td> <td>  377.839</td>\n",
       "</tr>\n",
       "</table>\n",
       "<table class=\"simpletable\">\n",
       "<tr>\n",
       "  <th>Omnibus:</th>       <td>271.132</td> <th>  Durbin-Watson:     </th> <td>   2.075</td> \n",
       "</tr>\n",
       "<tr>\n",
       "  <th>Prob(Omnibus):</th> <td> 0.000</td>  <th>  Jarque-Bera (JB):  </th> <td> 617.725</td> \n",
       "</tr>\n",
       "<tr>\n",
       "  <th>Skew:</th>          <td> 1.194</td>  <th>  Prob(JB):          </th> <td>7.29e-135</td>\n",
       "</tr>\n",
       "<tr>\n",
       "  <th>Kurtosis:</th>      <td> 5.490</td>  <th>  Cond. No.          </th> <td>    355.</td> \n",
       "</tr>\n",
       "</table><br/><br/>Notes:<br/>[1] Standard Errors assume that the covariance matrix of the errors is correctly specified."
      ],
      "text/latex": [
       "\\begin{center}\n",
       "\\begin{tabular}{lclc}\n",
       "\\toprule\n",
       "\\textbf{Dep. Variable:}    &     expenses     & \\textbf{  R-squared:         } &     0.748   \\\\\n",
       "\\textbf{Model:}            &       OLS        & \\textbf{  Adj. R-squared:    } &     0.747   \\\\\n",
       "\\textbf{Method:}           &  Least Squares   & \\textbf{  F-statistic:       } &     1227.   \\\\\n",
       "\\textbf{Date:}             & Thu, 15 May 2025 & \\textbf{  Prob (F-statistic):} &     0.00    \\\\\n",
       "\\textbf{Time:}             &     16:12:27     & \\textbf{  Log-Likelihood:    } &   -12609.   \\\\\n",
       "\\textbf{No. Observations:} &        1245      & \\textbf{  AIC:               } & 2.523e+04   \\\\\n",
       "\\textbf{Df Residuals:}     &        1241      & \\textbf{  BIC:               } & 2.525e+04   \\\\\n",
       "\\textbf{Df Model:}         &           3      & \\textbf{                     } &             \\\\\n",
       "\\textbf{Covariance Type:}  &    nonrobust     & \\textbf{                     } &             \\\\\n",
       "\\bottomrule\n",
       "\\end{tabular}\n",
       "\\begin{tabular}{lcccccc}\n",
       "                     & \\textbf{coef} & \\textbf{std err} & \\textbf{t} & \\textbf{P$> |$t$|$} & \\textbf{[0.025} & \\textbf{0.975]}  \\\\\n",
       "\\midrule\n",
       "\\textbf{const}       &   -1.426e+04  &     1024.537     &   -13.919  &         0.000        &    -1.63e+04    &    -1.23e+04     \\\\\n",
       "\\textbf{smoker\\_yes} &     2.39e+04  &      429.326     &    55.670  &         0.000        &     2.31e+04    &     2.47e+04     \\\\\n",
       "\\textbf{age}         &     259.5974  &       12.339     &    21.039  &         0.000        &      235.390    &      283.804     \\\\\n",
       "\\textbf{BMI}         &     322.2587  &       28.330     &    11.375  &         0.000        &      266.679    &      377.839     \\\\\n",
       "\\bottomrule\n",
       "\\end{tabular}\n",
       "\\begin{tabular}{lclc}\n",
       "\\textbf{Omnibus:}       & 271.132 & \\textbf{  Durbin-Watson:     } &     2.075  \\\\\n",
       "\\textbf{Prob(Omnibus):} &   0.000 & \\textbf{  Jarque-Bera (JB):  } &   617.725  \\\\\n",
       "\\textbf{Skew:}          &   1.194 & \\textbf{  Prob(JB):          } & 7.29e-135  \\\\\n",
       "\\textbf{Kurtosis:}      &   5.490 & \\textbf{  Cond. No.          } &      355.  \\\\\n",
       "\\bottomrule\n",
       "\\end{tabular}\n",
       "%\\caption{OLS Regression Results}\n",
       "\\end{center}\n",
       "\n",
       "Notes: \\newline\n",
       " [1] Standard Errors assume that the covariance matrix of the errors is correctly specified."
      ],
      "text/plain": [
       "<class 'statsmodels.iolib.summary.Summary'>\n",
       "\"\"\"\n",
       "                            OLS Regression Results                            \n",
       "==============================================================================\n",
       "Dep. Variable:               expenses   R-squared:                       0.748\n",
       "Model:                            OLS   Adj. R-squared:                  0.747\n",
       "Method:                 Least Squares   F-statistic:                     1227.\n",
       "Date:                Thu, 15 May 2025   Prob (F-statistic):               0.00\n",
       "Time:                        16:12:27   Log-Likelihood:                -12609.\n",
       "No. Observations:                1245   AIC:                         2.523e+04\n",
       "Df Residuals:                    1241   BIC:                         2.525e+04\n",
       "Df Model:                           3                                         \n",
       "Covariance Type:            nonrobust                                         \n",
       "==============================================================================\n",
       "                 coef    std err          t      P>|t|      [0.025      0.975]\n",
       "------------------------------------------------------------------------------\n",
       "const      -1.426e+04   1024.537    -13.919      0.000   -1.63e+04   -1.23e+04\n",
       "smoker_yes   2.39e+04    429.326     55.670      0.000    2.31e+04    2.47e+04\n",
       "age          259.5974     12.339     21.039      0.000     235.390     283.804\n",
       "BMI          322.2587     28.330     11.375      0.000     266.679     377.839\n",
       "==============================================================================\n",
       "Omnibus:                      271.132   Durbin-Watson:                   2.075\n",
       "Prob(Omnibus):                  0.000   Jarque-Bera (JB):              617.725\n",
       "Skew:                           1.194   Prob(JB):                    7.29e-135\n",
       "Kurtosis:                       5.490   Cond. No.                         355.\n",
       "==============================================================================\n",
       "\n",
       "Notes:\n",
       "[1] Standard Errors assume that the covariance matrix of the errors is correctly specified.\n",
       "\"\"\""
      ]
     },
     "execution_count": 4,
     "metadata": {},
     "output_type": "execute_result"
    }
   ],
   "source": [
    "# create a linear regression model\n",
    "# using the 'smoker_yes', 'age', and 'BMI' columns as independent variables\n",
    "# and the 'expenses' column as the dependent variable\n",
    "x = df[['smoker_yes', 'age', 'BMI']]\n",
    "y = df['expenses']\n",
    "x = sm.add_constant(x)\n",
    "model = sm.OLS(y, x)\n",
    "result = model.fit()\n",
    "result.summary()"
   ]
  },
  {
   "cell_type": "code",
   "execution_count": 5,
   "id": "479584e7-c40f-4b18-8da1-fcdb0cd72f65",
   "metadata": {
    "tags": []
   },
   "outputs": [],
   "source": [
    "# comments:\n",
    "\n",
    "# (1) there is a small amount of rows with missing values - they can be dropped\n",
    "\n",
    "# (2) you may want to make use of https://pandas.pydata.org/docs/reference/api/pandas.get_dummies.html\n",
    "# read through the function documentation carefully, and use dtype=float for the \"dtype\" parameter\n",
    "\n",
    "# (3) perform all your computations (solve the task) before the questions part, in a complete, clear and effective manner\n",
    "\n",
    "# (4) in the questions part only print answers based on your solution"
   ]
  },
  {
   "cell_type": "markdown",
   "id": "5fdc46eb-6745-496b-9f05-25da4f07fdb4",
   "metadata": {},
   "source": [
    "#### Questions (answer the questions, all computations should precede this part)"
   ]
  },
  {
   "cell_type": "markdown",
   "id": "3bf55d3b-5ab0-4a85-907a-265890678f32",
   "metadata": {},
   "source": [
    "#### Question 1"
   ]
  },
  {
   "cell_type": "code",
   "execution_count": 6,
   "id": "0e334107-1631-4a06-a27f-74cfe0c64bea",
   "metadata": {
    "tags": []
   },
   "outputs": [],
   "source": [
    "# did you remove any numerical predictor from the data based on multi-collinearity considerations?\n",
    "# if not - why, if yes - how did you decide on the predictor to remove?\n",
    "# print a short (one-sentence) answer using the print() command"
   ]
  },
  {
   "cell_type": "code",
   "execution_count": 7,
   "id": "a99aea72",
   "metadata": {},
   "outputs": [
    {
     "name": "stdout",
     "output_type": "stream",
     "text": [
      "yes we removed the weight predictor because it was highly correlated with the BMI predictor.\n",
      "we decided to remove the weight becasue the R^2 was heigher than if we removed the BMI predictor.\n",
      "They are correlated becasue if a person has higher weight he has a larger BMI\n"
     ]
    }
   ],
   "source": [
    "print(\"yes we removed the weight predictor because it was highly correlated with the BMI predictor.\\nwe decided to remove the weight becasue the R^2 was heigher than if we removed the BMI predictor.\\nThey are correlated becasue if a person has higher weight he has a larger BMI\")"
   ]
  },
  {
   "cell_type": "markdown",
   "id": "e8dcf249-0a7a-48e6-81dc-b8ffb578f286",
   "metadata": {},
   "source": [
    "#### Question 2"
   ]
  },
  {
   "cell_type": "code",
   "execution_count": 8,
   "id": "aa4e2e3a-40af-41e6-a93f-c52c08e6d8c8",
   "metadata": {
    "tags": []
   },
   "outputs": [],
   "source": [
    "# what is the amount of money a person is likely to spend on medical expenses with each additional year of age?\n",
    "# write here the value itself (hardcoded) based on your inspection of the regression summary (after taking care of multi-collinearity)\n",
    "# display your answer as a dataframe (as in assignment 2)"
   ]
  },
  {
   "cell_type": "code",
   "execution_count": 9,
   "id": "3e0ca612",
   "metadata": {},
   "outputs": [
    {
     "name": "stdout",
     "output_type": "stream",
     "text": [
      "                    value\n",
      "money_per_year  259.59742\n"
     ]
    }
   ],
   "source": [
    "money_per_year = pd.DataFrame([result.params['age']], index=['money_per_year'], columns=['value'])\n",
    "print(money_per_year)"
   ]
  },
  {
   "cell_type": "markdown",
   "id": "bbc895f4-027e-47f9-b864-03ac5f0c7115",
   "metadata": {},
   "source": [
    "#### Question 3"
   ]
  },
  {
   "cell_type": "code",
   "execution_count": 10,
   "id": "a2f20dcd-e1d1-4bdb-80ec-95ec821dd540",
   "metadata": {
    "tags": []
   },
   "outputs": [],
   "source": [
    "# consider the predictors: age, gender, BMI, weight, children, smoker\n",
    "# what predictors (out of this list) have significant contribution to predicting medical expenses?\n",
    "\n",
    "# report only signifnicant predictors sorted by their contribution to the prediction from highest to lowest\n",
    "# for each predictor specify if it has a positive or a negative effect on the medical expenses\n",
    "\n",
    "# display your answer as a dataframe with two columns: (1) predictor, (2) effect (positive or negative)\n",
    "# no need to include the constant (b_0) value"
   ]
  },
  {
   "cell_type": "code",
   "execution_count": 72,
   "id": "e0ad8a04",
   "metadata": {},
   "outputs": [
    {
     "name": "stdout",
     "output_type": "stream",
     "text": [
      "            predictor value    effect\n",
      "smoker_yes      9584.409039  positive\n",
      "age             3646.441172  positive\n",
      "BMI             2273.091405  positive\n"
     ]
    }
   ],
   "source": [
    "# create a linear regression model\n",
    "\n",
    "X = df[['smoker_yes', 'age', 'BMI', 'weight', 'gender_male']]# with 'somker_yes', 'age', 'BMI', 'weight', and 'gender_male' as predicators\n",
    "y = df['expenses']\n",
    "\n",
    "scaler = StandardScaler()\n",
    "X_scaled_values = scaler.fit_transform(X)\n",
    "X_scaled = pd.DataFrame(X_scaled_values, columns=X.columns, index=X.index)\n",
    "\n",
    "X_scaled = sm.add_constant(X_scaled)\n",
    "\n",
    "model = sm.OLS(y, X_scaled)\n",
    "results = model.fit()\n",
    "\n",
    "coefficients = results.params.drop('const')\n",
    "p_values = results.pvalues.drop('const')\n",
    "\n",
    "significant = p_values[p_values < 0.05].index\n",
    "significant_coefficients = coefficients[significant]\n",
    "\n",
    "sorted_coefficients = significant_coefficients.abs().sort_values(ascending=False)\n",
    "sorted_predictors = sorted_coefficients.index\n",
    "\n",
    "df_result = pd.DataFrame({\n",
    "    'predictor value': sorted_coefficients,\n",
    "    'effect': ['positive' if significant_coefficients[p] > 0 else 'negative' for p in sorted_predictors]\n",
    "})\n",
    "\n",
    "print(df_result)\n"
   ]
  },
  {
   "cell_type": "markdown",
   "id": "3b37b6b9-4612-4b16-ba1f-d528c5edf60a",
   "metadata": {},
   "source": [
    "#### Question 4"
   ]
  },
  {
   "cell_type": "code",
   "execution_count": 73,
   "id": "41fd402f-688f-45d3-8193-886ec12b9895",
   "metadata": {},
   "outputs": [],
   "source": [
    "# compute R-squared for four regression versions:\n",
    "# (1) including all predictors from the csv file\n",
    "# (2) including predictors after taking care of the multi-collineraity issue\n",
    "# (3) (2) above + including only predictors with signficant contribution to the model\n",
    "# (4) (3) above + after preditor scaling"
   ]
  },
  {
   "cell_type": "markdown",
   "id": "8b806447",
   "metadata": {},
   "source": [
    "(1) including all predictors from the csv file"
   ]
  },
  {
   "cell_type": "code",
   "execution_count": 74,
   "id": "26c97e2e",
   "metadata": {},
   "outputs": [
    {
     "name": "stdout",
     "output_type": "stream",
     "text": [
      "                R_squared\n",
      "all_predictors   0.750133\n"
     ]
    }
   ],
   "source": [
    "\n",
    "x_all = df[['smoker_yes', 'age', 'BMI', 'weight', 'children', 'gender_male', 'region_northwest', 'region_southeast', 'region_southwest']]\n",
    "y_all = df['expenses']\n",
    "x_all = sm.add_constant(x_all)\n",
    "model_all = sm.OLS(y_all, x_all)\n",
    "result_all = model_all.fit()\n",
    "r2all_df = pd.DataFrame({'R_squared': [result_all.rsquared]}, index=['all_predictors'])\n",
    "print(r2all_df)"
   ]
  },
  {
   "cell_type": "markdown",
   "id": "ded131c8",
   "metadata": {},
   "source": [
    "including predictors after taking care of the multi-collineraity issue"
   ]
  },
  {
   "cell_type": "code",
   "execution_count": 75,
   "id": "f1072ce9",
   "metadata": {},
   "outputs": [
    {
     "name": "stdout",
     "output_type": "stream",
     "text": [
      "                 R_squared\n",
      "no_collinearity   0.749585\n"
     ]
    }
   ],
   "source": [
    "x_no_collin = df[['smoker_yes', 'age', 'BMI', 'children', 'region_northwest', 'region_southeast', 'region_southwest', 'gender_male']]\n",
    "y_no_collin = df['expenses']\n",
    "x_no_collin = sm.add_constant(x_no_collin)\n",
    "model_no_collin = sm.OLS(y_no_collin, x_no_collin)\n",
    "result_no_collin = model_no_collin.fit()\n",
    "r2_no_col = pd.DataFrame({'R_squared': [result_no_collin.rsquared]}, index=['no_collinearity'])\n",
    "print(r2_no_col)"
   ]
  },
  {
   "cell_type": "markdown",
   "id": "97f6d64e",
   "metadata": {},
   "source": [
    "(3) (2) above + including only predictors with signficant contribution to the model\n",
    "its the model that we created at the begging"
   ]
  },
  {
   "cell_type": "code",
   "execution_count": 76,
   "id": "1d620350",
   "metadata": {},
   "outputs": [
    {
     "name": "stdout",
     "output_type": "stream",
     "text": [
      "                        R_squared\n",
      "significant_predictors   0.749585\n"
     ]
    }
   ],
   "source": [
    "r2_significant = pd.DataFrame({'R_squared': [result_no_collin.rsquared]}, index=['significant_predictors'])\n",
    "print(r2_significant)"
   ]
  },
  {
   "cell_type": "markdown",
   "id": "6f175ece",
   "metadata": {},
   "source": [
    "(4) (3) above + after preditor scaling"
   ]
  },
  {
   "cell_type": "code",
   "execution_count": 77,
   "id": "84391f06",
   "metadata": {},
   "outputs": [
    {
     "name": "stdout",
     "output_type": "stream",
     "text": [
      "                   R_squared\n",
      "scaled_predictors   0.747812\n"
     ]
    }
   ],
   "source": [
    "from sklearn.preprocessing import StandardScaler\n",
    "scaler = StandardScaler()\n",
    "scaler.fit(df)\n",
    "predicators_scaled = scaler.transform(df) # scale the predictors\n",
    "df_scaled = pd.DataFrame(predicators_scaled, columns = df.columns)\n",
    "x_scaled = df_scaled[['smoker_yes', 'age', 'BMI']]\n",
    "y_scaled = df_scaled['expenses']\n",
    "x_scaled = sm.add_constant(x_scaled)\n",
    "model_scaled = sm.OLS(y_scaled, x_scaled)\n",
    "result_scaled = model_scaled.fit()\n",
    "r2_scaled = pd.DataFrame({'R_squared': [result_scaled.rsquared]}, index=['scaled_predictors'])\n",
    "print(r2_scaled)"
   ]
  },
  {
   "cell_type": "markdown",
   "id": "ab11db55-5c53-4daf-be78-bfaac37c61b4",
   "metadata": {},
   "source": [
    "#### Question 5"
   ]
  },
  {
   "cell_type": "code",
   "execution_count": 78,
   "id": "9e1efc6c-546b-4f9b-8605-15f7a8f58788",
   "metadata": {},
   "outputs": [],
   "source": [
    "# what medical expenses may expect a person with the following data?\n",
    "# age=66, gender=female, BMI=35.4, weight=70.5, children=1, smoker=no, region=southeast\n",
    "\n",
    "# for this question only, include you computation *in the answer below* using model (3) from Question 4\n",
    "\n",
    "# !! you may face difficuly adding a constant (sm.add_constant()) to a DataFrame with a single row\n",
    "# try to search for solution, and in case you need a hint, you may find these links useful - read carefully:\n",
    "# https://github.com/statsmodels/statsmodels/issues/7057\n",
    "# https://www.statsmodels.org/0.9.0/generated/statsmodels.tools.tools.add_constant.html\n",
    "# in this specific case add_constant() has a somewhat unexpected behavior"
   ]
  },
  {
   "cell_type": "code",
   "execution_count": 79,
   "id": "be83ec41",
   "metadata": {},
   "outputs": [
    {
     "name": "stdout",
     "output_type": "stream",
     "text": [
      "Expected medical expenses: 14280.47\n"
     ]
    }
   ],
   "source": [
    "\n",
    "person_data = pd.DataFrame({\n",
    "    'smoker_yes': [0],\n",
    "    'age': [66],\n",
    "    'BMI': [35.4]\n",
    "})\n",
    "\n",
    "person_data = sm.add_constant(person_data, has_constant='add') # add a constant term with had constant = 'add' because we have a single row\n",
    "\n",
    "predicted_expenses = result.predict(person_data)\n",
    "print(f\"Expected medical expenses: {predicted_expenses[0]:.2f}\")"
   ]
  },
  {
   "cell_type": "code",
   "execution_count": null,
   "id": "70547614-8c77-40c7-9982-1211a2ed0959",
   "metadata": {},
   "outputs": [],
   "source": []
  }
 ],
 "metadata": {
  "kernelspec": {
   "display_name": "base",
   "language": "python",
   "name": "python3"
  },
  "language_info": {
   "codemirror_mode": {
    "name": "ipython",
    "version": 3
   },
   "file_extension": ".py",
   "mimetype": "text/x-python",
   "name": "python",
   "nbconvert_exporter": "python",
   "pygments_lexer": "ipython3",
   "version": "3.12.7"
  }
 },
 "nbformat": 4,
 "nbformat_minor": 5
}
